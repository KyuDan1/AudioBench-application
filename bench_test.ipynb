{
 "cells": [
  {
   "cell_type": "code",
   "execution_count": 1,
   "id": "b0fdfd59",
   "metadata": {},
   "outputs": [
    {
     "name": "stderr",
     "output_type": "stream",
     "text": [
      "/opt/homebrew/Caskroom/miniforge/base/envs/benchmark/lib/python3.10/site-packages/tqdm/auto.py:21: TqdmWarning: IProgress not found. Please update jupyter and ipywidgets. See https://ipywidgets.readthedocs.io/en/stable/user_install.html\n",
      "  from .autonotebook import tqdm as notebook_tqdm\n",
      "Downloading builder script: 100%|██████████| 12.5k/12.5k [00:00<00:00, 46.4kB/s]\n",
      "Downloading readme: 100%|██████████| 13.3k/13.3k [00:00<00:00, 55.3kB/s]\n",
      "Downloading data: 100%|██████████| 1.42G/1.42G [02:07<00:00, 11.1MB/s]\n",
      "Downloading data: 100%|██████████| 126M/126M [00:11<00:00, 10.7MB/s] \n",
      "Downloading data: 100%|██████████| 214M/214M [00:19<00:00, 11.1MB/s] \n",
      "Downloading data: 100%|██████████| 1.25M/1.25M [00:00<00:00, 2.33MB/s]\n",
      "Downloading data: 100%|██████████| 125k/125k [00:00<00:00, 139kB/s]\n",
      "Downloading data: 100%|██████████| 212k/212k [00:00<00:00, 885kB/s]\n",
      "Generating train split: 2307 examples [00:11, 203.66 examples/s]\n",
      "Generating validation split: 226 examples [00:00, 226.44 examples/s]\n",
      "Generating test split: 382 examples [00:01, 228.07 examples/s]\n"
     ]
    }
   ],
   "source": [
    "from datasets import load_dataset\n",
    "# REQUIREMENTS: pip install \"datasets<3.0.0\"\n",
    "fleurs_stream = load_dataset(\"google/fleurs\", \"ko_kr\", split=\"test\", trust_remote_code=True)\n"
   ]
  },
  {
   "cell_type": "code",
   "execution_count": null,
   "id": "0f48fe66",
   "metadata": {},
   "outputs": [],
   "source": []
  }
 ],
 "metadata": {
  "kernelspec": {
   "display_name": "benchmark",
   "language": "python",
   "name": "python3"
  },
  "language_info": {
   "codemirror_mode": {
    "name": "ipython",
    "version": 3
   },
   "file_extension": ".py",
   "mimetype": "text/x-python",
   "name": "python",
   "nbconvert_exporter": "python",
   "pygments_lexer": "ipython3",
   "version": "3.10.0"
  }
 },
 "nbformat": 4,
 "nbformat_minor": 5
}
